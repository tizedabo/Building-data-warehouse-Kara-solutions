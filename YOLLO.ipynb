{
  "cells": [
    {
      "cell_type": "code",
      "execution_count": 6,
      "metadata": {
        "colab": {
          "base_uri": "https://localhost:8080/"
        },
        "id": "i9JGUA_F-IUw",
        "outputId": "5304f03e-9e5a-4cfb-8f89-ba8da915fca9"
      },
      "outputs": [
        {
          "name": "stderr",
          "output_type": "stream",
          "text": [
            "fatal: destination path 'yolov5' already exists and is not an empty directory.\n"
          ]
        }
      ],
      "source": [
        "!git clone https://github.com/ultralytics/yolov5.git"
      ]
    },
    {
      "cell_type": "code",
      "execution_count": 7,
      "metadata": {
        "id": "wd1FPev--ODt"
      },
      "outputs": [
        {
          "name": "stdout",
          "output_type": "stream",
          "text": [
            "c:\\Users\\meet_\\Documents\\GitHub\\Building-data-warehouse-Kara-solutions\\yolov5\n"
          ]
        },
        {
          "name": "stderr",
          "output_type": "stream",
          "text": [
            "C:\\Users\\meet_\\AppData\\Roaming\\Python\\Python312\\site-packages\\IPython\\core\\magics\\osm.py:417: UserWarning: This is now an optional IPython functionality, setting dhist requires you to install the `pickleshare` library.\n",
            "  self.shell.db['dhist'] = compress_dhist(dhist)[-100:]\n"
          ]
        },
        {
          "name": "stdout",
          "output_type": "stream",
          "text": [
            "Requirement already satisfied: gitpython>=3.1.30 in c:\\users\\meet_\\appdata\\local\\programs\\python\\python312\\lib\\site-packages (from -r requirements.txt (line 5)) (3.1.43)\n",
            "Requirement already satisfied: matplotlib>=3.3 in c:\\users\\meet_\\appdata\\local\\programs\\python\\python312\\lib\\site-packages (from -r requirements.txt (line 6)) (3.9.2)\n",
            "Requirement already satisfied: numpy>=1.23.5 in c:\\users\\meet_\\appdata\\local\\programs\\python\\python312\\lib\\site-packages (from -r requirements.txt (line 7)) (2.1.0)\n",
            "Requirement already satisfied: opencv-python>=4.1.1 in c:\\users\\meet_\\appdata\\local\\programs\\python\\python312\\lib\\site-packages (from -r requirements.txt (line 8)) (4.10.0.84)\n",
            "Requirement already satisfied: pillow>=10.3.0 in c:\\users\\meet_\\appdata\\local\\programs\\python\\python312\\lib\\site-packages (from -r requirements.txt (line 9)) (10.4.0)\n",
            "Requirement already satisfied: psutil in c:\\users\\meet_\\appdata\\roaming\\python\\python312\\site-packages (from -r requirements.txt (line 10)) (6.0.0)\n",
            "Requirement already satisfied: PyYAML>=5.3.1 in c:\\users\\meet_\\appdata\\local\\programs\\python\\python312\\lib\\site-packages (from -r requirements.txt (line 11)) (6.0.2)\n",
            "Requirement already satisfied: requests>=2.32.2 in c:\\users\\meet_\\appdata\\local\\programs\\python\\python312\\lib\\site-packages (from -r requirements.txt (line 12)) (2.32.3)\n",
            "Requirement already satisfied: scipy>=1.4.1 in c:\\users\\meet_\\appdata\\local\\programs\\python\\python312\\lib\\site-packages (from -r requirements.txt (line 13)) (1.14.1)\n",
            "Requirement already satisfied: thop>=0.1.1 in c:\\users\\meet_\\appdata\\local\\programs\\python\\python312\\lib\\site-packages (from -r requirements.txt (line 14)) (0.1.1.post2209072238)\n",
            "Requirement already satisfied: torch>=1.8.0 in c:\\users\\meet_\\appdata\\local\\programs\\python\\python312\\lib\\site-packages (from -r requirements.txt (line 15)) (2.4.1)\n",
            "Requirement already satisfied: torchvision>=0.9.0 in c:\\users\\meet_\\appdata\\local\\programs\\python\\python312\\lib\\site-packages (from -r requirements.txt (line 16)) (0.19.1)\n",
            "Requirement already satisfied: tqdm>=4.66.3 in c:\\users\\meet_\\appdata\\local\\programs\\python\\python312\\lib\\site-packages (from -r requirements.txt (line 17)) (4.66.5)\n",
            "Requirement already satisfied: ultralytics>=8.2.34 in c:\\users\\meet_\\appdata\\local\\programs\\python\\python312\\lib\\site-packages (from -r requirements.txt (line 18)) (8.3.13)\n",
            "Requirement already satisfied: pandas>=1.1.4 in c:\\users\\meet_\\appdata\\local\\programs\\python\\python312\\lib\\site-packages (from -r requirements.txt (line 27)) (2.2.2)\n",
            "Requirement already satisfied: seaborn>=0.11.0 in c:\\users\\meet_\\appdata\\local\\programs\\python\\python312\\lib\\site-packages (from -r requirements.txt (line 28)) (0.13.2)\n",
            "Requirement already satisfied: setuptools>=70.0.0 in c:\\users\\meet_\\appdata\\local\\programs\\python\\python312\\lib\\site-packages (from -r requirements.txt (line 42)) (73.0.1)\n",
            "Requirement already satisfied: gitdb<5,>=4.0.1 in c:\\users\\meet_\\appdata\\local\\programs\\python\\python312\\lib\\site-packages (from gitpython>=3.1.30->-r requirements.txt (line 5)) (4.0.11)\n",
            "Requirement already satisfied: contourpy>=1.0.1 in c:\\users\\meet_\\appdata\\local\\programs\\python\\python312\\lib\\site-packages (from matplotlib>=3.3->-r requirements.txt (line 6)) (1.2.1)\n",
            "Requirement already satisfied: cycler>=0.10 in c:\\users\\meet_\\appdata\\local\\programs\\python\\python312\\lib\\site-packages (from matplotlib>=3.3->-r requirements.txt (line 6)) (0.12.1)\n",
            "Requirement already satisfied: fonttools>=4.22.0 in c:\\users\\meet_\\appdata\\local\\programs\\python\\python312\\lib\\site-packages (from matplotlib>=3.3->-r requirements.txt (line 6)) (4.53.1)\n",
            "Requirement already satisfied: kiwisolver>=1.3.1 in c:\\users\\meet_\\appdata\\local\\programs\\python\\python312\\lib\\site-packages (from matplotlib>=3.3->-r requirements.txt (line 6)) (1.4.5)\n",
            "Requirement already satisfied: packaging>=20.0 in c:\\users\\meet_\\appdata\\roaming\\python\\python312\\site-packages (from matplotlib>=3.3->-r requirements.txt (line 6)) (24.1)\n",
            "Requirement already satisfied: pyparsing>=2.3.1 in c:\\users\\meet_\\appdata\\local\\programs\\python\\python312\\lib\\site-packages (from matplotlib>=3.3->-r requirements.txt (line 6)) (3.1.2)\n",
            "Requirement already satisfied: python-dateutil>=2.7 in c:\\users\\meet_\\appdata\\roaming\\python\\python312\\site-packages (from matplotlib>=3.3->-r requirements.txt (line 6)) (2.9.0.post0)\n",
            "Requirement already satisfied: charset-normalizer<4,>=2 in c:\\users\\meet_\\appdata\\local\\programs\\python\\python312\\lib\\site-packages (from requests>=2.32.2->-r requirements.txt (line 12)) (3.3.2)\n",
            "Requirement already satisfied: idna<4,>=2.5 in c:\\users\\meet_\\appdata\\local\\programs\\python\\python312\\lib\\site-packages (from requests>=2.32.2->-r requirements.txt (line 12)) (3.8)\n",
            "Requirement already satisfied: urllib3<3,>=1.21.1 in c:\\users\\meet_\\appdata\\local\\programs\\python\\python312\\lib\\site-packages (from requests>=2.32.2->-r requirements.txt (line 12)) (2.2.2)\n",
            "Requirement already satisfied: certifi>=2017.4.17 in c:\\users\\meet_\\appdata\\local\\programs\\python\\python312\\lib\\site-packages (from requests>=2.32.2->-r requirements.txt (line 12)) (2024.7.4)\n",
            "Requirement already satisfied: filelock in c:\\users\\meet_\\appdata\\local\\programs\\python\\python312\\lib\\site-packages (from torch>=1.8.0->-r requirements.txt (line 15)) (3.16.1)\n",
            "Requirement already satisfied: typing-extensions>=4.8.0 in c:\\users\\meet_\\appdata\\local\\programs\\python\\python312\\lib\\site-packages (from torch>=1.8.0->-r requirements.txt (line 15)) (4.12.2)\n",
            "Requirement already satisfied: sympy in c:\\users\\meet_\\appdata\\local\\programs\\python\\python312\\lib\\site-packages (from torch>=1.8.0->-r requirements.txt (line 15)) (1.13.3)\n",
            "Requirement already satisfied: networkx in c:\\users\\meet_\\appdata\\local\\programs\\python\\python312\\lib\\site-packages (from torch>=1.8.0->-r requirements.txt (line 15)) (3.4.1)\n",
            "Requirement already satisfied: jinja2 in c:\\users\\meet_\\appdata\\local\\programs\\python\\python312\\lib\\site-packages (from torch>=1.8.0->-r requirements.txt (line 15)) (3.1.4)\n",
            "Requirement already satisfied: fsspec in c:\\users\\meet_\\appdata\\local\\programs\\python\\python312\\lib\\site-packages (from torch>=1.8.0->-r requirements.txt (line 15)) (2024.9.0)\n",
            "Requirement already satisfied: colorama in c:\\users\\meet_\\appdata\\roaming\\python\\python312\\site-packages (from tqdm>=4.66.3->-r requirements.txt (line 17)) (0.4.6)\n",
            "Requirement already satisfied: py-cpuinfo in c:\\users\\meet_\\appdata\\local\\programs\\python\\python312\\lib\\site-packages (from ultralytics>=8.2.34->-r requirements.txt (line 18)) (9.0.0)\n",
            "Requirement already satisfied: ultralytics-thop>=2.0.0 in c:\\users\\meet_\\appdata\\local\\programs\\python\\python312\\lib\\site-packages (from ultralytics>=8.2.34->-r requirements.txt (line 18)) (2.0.9)\n",
            "Requirement already satisfied: pytz>=2020.1 in c:\\users\\meet_\\appdata\\local\\programs\\python\\python312\\lib\\site-packages (from pandas>=1.1.4->-r requirements.txt (line 27)) (2024.1)\n",
            "Requirement already satisfied: tzdata>=2022.7 in c:\\users\\meet_\\appdata\\local\\programs\\python\\python312\\lib\\site-packages (from pandas>=1.1.4->-r requirements.txt (line 27)) (2024.1)\n",
            "Requirement already satisfied: smmap<6,>=3.0.1 in c:\\users\\meet_\\appdata\\local\\programs\\python\\python312\\lib\\site-packages (from gitdb<5,>=4.0.1->gitpython>=3.1.30->-r requirements.txt (line 5)) (5.0.1)\n",
            "Requirement already satisfied: six>=1.5 in c:\\users\\meet_\\appdata\\roaming\\python\\python312\\site-packages (from python-dateutil>=2.7->matplotlib>=3.3->-r requirements.txt (line 6)) (1.16.0)\n",
            "Requirement already satisfied: MarkupSafe>=2.0 in c:\\users\\meet_\\appdata\\local\\programs\\python\\python312\\lib\\site-packages (from jinja2->torch>=1.8.0->-r requirements.txt (line 15)) (2.1.5)\n",
            "Requirement already satisfied: mpmath<1.4,>=1.1.0 in c:\\users\\meet_\\appdata\\local\\programs\\python\\python312\\lib\\site-packages (from sympy->torch>=1.8.0->-r requirements.txt (line 15)) (1.3.0)\n"
          ]
        }
      ],
      "source": [
        "%cd yolov5/\n",
        "!pip install -r requirements.txt\n"
      ]
    },
    {
      "cell_type": "code",
      "execution_count": null,
      "metadata": {
        "colab": {
          "base_uri": "https://localhost:8080/",
          "height": 1000
        },
        "id": "S029infC-mzW",
        "outputId": "36439b7c-8158-41f2-de4e-c852a038bb31"
      },
      "outputs": [
        {
          "name": "stderr",
          "output_type": "stream",
          "text": [
            "Using cache found in C:\\Users\\meet_/.cache\\torch\\hub\\ultralytics_yolov5_master\n"
          ]
        }
      ],
      "source": [
        "import torch\n",
        "import cv2\n",
        "import os\n",
        "\n",
        "# Load pre-trained YOLOv5 model (use YOLOv5s, YOLOv5m, YOLOv5l, or YOLOv5x as needed)\n",
        "model = torch.hub.load('ultralytics/yolov5', 'yolov5s')  # You can switch 'yolov5s' with 'yolov5m', 'yolov5l', or 'yolov5x'\n",
        "\n",
        "# Path to the directory containing the images from the Chemed Telegram Channel\n",
        "image_folder = '../photos'\n",
        "\n",
        "# Loop through the images in the folder and run object detection\n",
        "for img_name in os.listdir(image_folder):\n",
        "    img_path = os.path.join(image_folder, img_name)\n",
        "\n",
        "    # Read the image using OpenCV\n",
        "    img = cv2.imread(img_path)\n",
        "\n",
        "    # Run object detection\n",
        "    results = model(img)\n",
        "\n",
        "    # Show the results\n",
        "    results.show()  # Show detected objects on the image\n",
        "    results.save(save_dir='detection_results/')  # Save detection results to a directory\n"
      ]
    },
    {
      "cell_type": "code",
      "execution_count": 5,
      "metadata": {
        "colab": {
          "base_uri": "https://localhost:8080/"
        },
        "id": "Vbqhyf9Y_DXn",
        "outputId": "9efdce37-5422-4538-99a9-5bcfcd395eb5"
      },
      "outputs": [
        {
          "ename": "NameError",
          "evalue": "name 'image_folder' is not defined",
          "output_type": "error",
          "traceback": [
            "\u001b[1;31m---------------------------------------------------------------------------\u001b[0m",
            "\u001b[1;31mNameError\u001b[0m                                 Traceback (most recent call last)",
            "Cell \u001b[1;32mIn[5], line 5\u001b[0m\n\u001b[0;32m      2\u001b[0m \u001b[38;5;28;01mimport\u001b[39;00m \u001b[38;5;21;01mpandas\u001b[39;00m \u001b[38;5;28;01mas\u001b[39;00m \u001b[38;5;21;01mpd\u001b[39;00m\n\u001b[0;32m      4\u001b[0m \u001b[38;5;66;03m# Process results to extract bounding box, class labels, and confidence scores\u001b[39;00m\n\u001b[1;32m----> 5\u001b[0m \u001b[38;5;28;01mfor\u001b[39;00m img_name \u001b[38;5;129;01min\u001b[39;00m os\u001b[38;5;241m.\u001b[39mlistdir(\u001b[43mimage_folder\u001b[49m):\n\u001b[0;32m      6\u001b[0m     img_path \u001b[38;5;241m=\u001b[39m os\u001b[38;5;241m.\u001b[39mpath\u001b[38;5;241m.\u001b[39mjoin(image_folder, img_name)\n\u001b[0;32m      8\u001b[0m     \u001b[38;5;66;03m# Run object detection\u001b[39;00m\n",
            "\u001b[1;31mNameError\u001b[0m: name 'image_folder' is not defined"
          ]
        }
      ],
      "source": [
        "import os\n",
        "import pandas as pd\n",
        "\n",
        "# Process results to extract bounding box, class labels, and confidence scores\n",
        "for img_name in os.listdir(image_folder):\n",
        "    img_path = os.path.join(image_folder, img_name)\n",
        "\n",
        "    # Run object detection\n",
        "    results = model(img_path)\n",
        "\n",
        "    # Extract data from results\n",
        "    detections = results.pandas().xyxy[0]  # Pandas dataframe of detection results\n",
        "    print(f\"Detections for {img_name}:\")\n",
        "    print(detections[['name', 'confidence', 'xmin', 'ymin', 'xmax', 'ymax']])\n",
        "\n",
        "    # Save detections to CSV file\n",
        "    detections[['name', 'confidence', 'xmin', 'ymin', 'xmax', 'ymax']].to_csv(f'detection_results/{img_name}_detections.csv', index=False)\n"
      ]
    },
    {
      "cell_type": "code",
      "execution_count": null,
      "metadata": {
        "id": "0OxkCzw-ASpX"
      },
      "outputs": [],
      "source": []
    }
  ],
  "metadata": {
    "colab": {
      "provenance": []
    },
    "kernelspec": {
      "display_name": "Python 3",
      "name": "python3"
    },
    "language_info": {
      "codemirror_mode": {
        "name": "ipython",
        "version": 3
      },
      "file_extension": ".py",
      "mimetype": "text/x-python",
      "name": "python",
      "nbconvert_exporter": "python",
      "pygments_lexer": "ipython3",
      "version": "3.12.3"
    }
  },
  "nbformat": 4,
  "nbformat_minor": 0
}
